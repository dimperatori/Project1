{
 "cells": [
  {
   "cell_type": "markdown",
   "metadata": {},
   "source": [
    "<img src=\"http://imgur.com/1ZcRyrc.png\" style=\"float: left; margin: 20px; height: 55px\">\n",
    "\n",
    "# Project 1: Python Coding Exercises\n",
    "\n",
    "_Authors: Joseph Nelson (DC) _\n",
    "\n",
    "---"
   ]
  },
  {
   "cell_type": "markdown",
   "metadata": {},
   "source": [
    "The following code challenges are drawn from common exercises used in technical interviews.\n",
    "\n",
    "Please note that there may be several ways to approach each challenge. If you get stuck, try mapping out your approach in pseudocode first. Finally, while solutions to problems like these may be found online, remember that if you copy/paste code that you can't explain, you'll be missing out on the point of the project. The only way to truly learn a new skill is through practice, trial, and error - we can only help you improve by understanding where you are having trouble."
   ]
  },
  {
   "cell_type": "markdown",
   "metadata": {},
   "source": [
    "### Challenge 1: Largest Palindrome\n",
    "A palindromic number reads the same both ways. For example, 1234321 is a palindrome. The largest palindrome made from the product of two two-digit numbers is 9009 = 91 × 99. Find the largest palindrome made from the product of two three-digit numbers. Afterward, write a brief explanation walking through your code's logic in markdown."
   ]
  },
  {
   "cell_type": "code",
   "execution_count": 13,
   "metadata": {},
   "outputs": [
    {
     "name": "stdout",
     "output_type": "stream",
     "text": [
      "Max Number:906609 -> 913 * 993\n"
     ]
    }
   ],
   "source": [
    "maxnumber=0\n",
    "maxnum1=0\n",
    "maxnum2=0\n",
    "#Looking for all the 3 digits numbers: num1 x num2\n",
    "for num1 in range(1000):\n",
    "    for num2 in range(1000):\n",
    "        num=num1*num2\n",
    "        #converting to a string\n",
    "        snum=str(num)\n",
    "        #Checking if the converted string is equal to the reverse string (Palindrome)\n",
    "        if snum==snum[::-1]:\n",
    "            #Checking if is bigger than the max number store\n",
    "            if num>maxnumber:\n",
    "                maxnumber=num\n",
    "                maxnum1=num1\n",
    "                maxnum2=num2\n",
    "#printing the max number get by multiplying to 3 digits number\n",
    "print(\"Max Number:{} -> {} * {}\".format(str(maxnumber),str(maxnum1),str(maxnum2)))"
   ]
  },
  {
   "cell_type": "markdown",
   "metadata": {},
   "source": [
    "\n",
    "### Challenge 2: Summation of Primes\n",
    "The sum of the primes below 10 is 2 + 3 + 5 + 7 = 17. Find the sum of all the primes below 2,000. Afterward, write a brief explanation walking through your code's logic in markdown."
   ]
  },
  {
   "cell_type": "code",
   "execution_count": 16,
   "metadata": {},
   "outputs": [
    {
     "data": {
      "text/plain": [
       "277050"
      ]
     },
     "execution_count": 16,
     "metadata": {},
     "output_type": "execute_result"
    }
   ],
   "source": [
    "# Primes list\n",
    "list_prime=[2,3,5,7]\n",
    "#Checking for the numbers in the range\n",
    "for num in range(8,2000):\n",
    "    #Initialize flag =0\n",
    "    flag=0\n",
    "    #Checking for all the numbers in the prime list \n",
    "    for divi in list_prime:\n",
    "        #Check if the num is divisible\n",
    "        if num % divi==0:\n",
    "            flag=1\n",
    "            break\n",
    "    #We didn't find any prime that divide-> num is prime\n",
    "    if flag==0:\n",
    "        list_prime.append(num)\n",
    "#Adding all the elements of the prime list\n",
    "sum(list_prime)\n",
    "\n",
    "#print(list_prime)"
   ]
  },
  {
   "cell_type": "markdown",
   "metadata": {},
   "source": [
    "### Challenge 3: Multiples of 3 and 5\n",
    "If we list all of the natural numbers below 10 that are multiples of 3 or 5, we get 3, 5, 6, and 9. The sum of these multiples is 23. Find the sum of all the multiples of 3 and 5 below 1,000. Afterward, write a brief explanation walking through your code's logic in markdown."
   ]
  },
  {
   "cell_type": "code",
   "execution_count": 17,
   "metadata": {},
   "outputs": [
    {
     "data": {
      "text/plain": [
       "233168"
      ]
     },
     "execution_count": 17,
     "metadata": {},
     "output_type": "execute_result"
    }
   ],
   "source": [
    "multiples=[3,5,6,9]\n",
    "#Numbers below 1000\n",
    "for num in range(10,1000):\n",
    "    #Checking if they are multiple 3 or 5 (remainder = 0)\n",
    "    if num%3==0 or num%5==0:\n",
    "        #if are multiple append to the list\n",
    "        multiples.append(num)\n",
    "#Add all the elements in the list\n",
    "sum(multiples)\n",
    "    "
   ]
  },
  {
   "cell_type": "markdown",
   "metadata": {},
   "source": [
    "### Challenge 4: String Compressor\n",
    "Implement a method to perform basic string compression using the counts of repeated characters. (This is called run-length encoding.) For example, the string \"aabcccccaaa\" would become a2b1c5a3. If the “compressed” string would not become smaller than the original string, your method should return the original string. You can assume the string has only uppercase and lowercase letters (a–z). Specify whether your solution is case sensitive or case insensitive and what you would need to change to make it the other. Afterward, write a brief explanation walking through your code's logic in markdown."
   ]
  },
  {
   "cell_type": "code",
   "execution_count": 1,
   "metadata": {},
   "outputs": [
    {
     "data": {
      "text/plain": [
       "'a2b1c5a3'"
      ]
     },
     "execution_count": 1,
     "metadata": {},
     "output_type": "execute_result"
    }
   ],
   "source": [
    "def compress(word):\n",
    "    #Initialize string word_compress\n",
    "    word_compress=\"\"\n",
    "    #Initialize last char as the first character in the string\n",
    "    c_last=word[0]\n",
    "    #Initialize counter char repetition at 0\n",
    "    count=0\n",
    "    #For every char in the string\n",
    "    for c in word:\n",
    "        #Is the char = the last char then add one to the counter\n",
    "        if c==c_last:\n",
    "            count+=1\n",
    "        #Is char <> the last char then add to the word compress counter\n",
    "        #change last char and initialitze counter to 1\n",
    "        else:\n",
    "            word_compress+=c_last+str(count)\n",
    "            count=1\n",
    "            c_last=c\n",
    "    #Added the last letter counted\n",
    "    word_compress+=c_last+str(count)\n",
    "    return word_compress\n",
    "\n",
    "compress('aabcccccaaa')\n",
    "        \n",
    "        "
   ]
  },
  {
   "cell_type": "markdown",
   "metadata": {},
   "source": [
    "### *BONUS* Challenge: FizzBuzz\n",
    "Write a program that prints all of the numbers from 1 to 100. For multiples of 3, instead of the number, print \"Fizz;\" for multiples of 5, print \"Buzz.\" For numbers that are multiples of both 3 and 5, print \"FizzBuzz.\" Afterward, write a brief explanation walking through your code's logic in markdown."
   ]
  },
  {
   "cell_type": "code",
   "execution_count": 2,
   "metadata": {},
   "outputs": [
    {
     "name": "stdout",
     "output_type": "stream",
     "text": [
      "3 Fizz\n",
      "5 Buzz\n",
      "6 Fizz\n",
      "9 Fizz\n",
      "10 Buzz\n",
      "12 Fizz\n",
      "15 FizzBuzz\n",
      "18 Fizz\n",
      "20 Buzz\n",
      "21 Fizz\n",
      "24 Fizz\n",
      "25 Buzz\n",
      "27 Fizz\n",
      "30 FizzBuzz\n",
      "33 Fizz\n",
      "35 Buzz\n",
      "36 Fizz\n",
      "39 Fizz\n",
      "40 Buzz\n",
      "42 Fizz\n",
      "45 FizzBuzz\n",
      "48 Fizz\n",
      "50 Buzz\n",
      "51 Fizz\n",
      "54 Fizz\n",
      "55 Buzz\n",
      "57 Fizz\n",
      "60 FizzBuzz\n",
      "63 Fizz\n",
      "65 Buzz\n",
      "66 Fizz\n",
      "69 Fizz\n",
      "70 Buzz\n",
      "72 Fizz\n",
      "75 FizzBuzz\n",
      "78 Fizz\n",
      "80 Buzz\n",
      "81 Fizz\n",
      "84 Fizz\n",
      "85 Buzz\n",
      "87 Fizz\n",
      "90 FizzBuzz\n",
      "93 Fizz\n",
      "95 Buzz\n",
      "96 Fizz\n",
      "99 Fizz\n",
      "100 Buzz\n"
     ]
    }
   ],
   "source": [
    "#Numbers between 1 and 100\n",
    "for num in range(1,101):\n",
    "    #If is divisible by 3 and 5 print FizzBuzz (Check first)\n",
    "    if num%3==0 and num%5==0:\n",
    "        print(\"{} FizzBuzz\".format(num))\n",
    "    elif num%3==0:\n",
    "        print(\"{} Fizz\".format(num))\n",
    "    elif num%5==0:\n",
    "        print(\"{} Buzz\".format(num))"
   ]
  },
  {
   "cell_type": "code",
   "execution_count": null,
   "metadata": {},
   "outputs": [],
   "source": []
  }
 ],
 "metadata": {
  "anaconda-cloud": {},
  "kernelspec": {
   "display_name": "Python 3",
   "language": "python",
   "name": "python3"
  },
  "language_info": {
   "codemirror_mode": {
    "name": "ipython",
    "version": 3
   },
   "file_extension": ".py",
   "mimetype": "text/x-python",
   "name": "python",
   "nbconvert_exporter": "python",
   "pygments_lexer": "ipython3",
   "version": "3.6.4"
  }
 },
 "nbformat": 4,
 "nbformat_minor": 2
}
